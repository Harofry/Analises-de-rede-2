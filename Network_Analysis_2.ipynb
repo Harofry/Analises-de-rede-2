{
  "nbformat": 4,
  "nbformat_minor": 0,
  "metadata": {
    "colab": {
      "provenance": []
    },
    "kernelspec": {
      "name": "python3",
      "display_name": "Python 3"
    },
    "language_info": {
      "name": "python"
    }
  },
  "cells": [
    {
      "cell_type": "markdown",
      "source": [
        "  Importando as bibliotecas necessárias"
      ],
      "metadata": {
        "id": "9mqw1XlytOQO"
      }
    },
    {
      "cell_type": "code",
      "source": [
        "!pip install networkx"
      ],
      "metadata": {
        "id": "0vG8MtsSuMPh",
        "colab": {
          "base_uri": "https://localhost:8080/"
        },
        "outputId": "ac6186c9-6066-45d5-e8c8-dc49fea6532a"
      },
      "execution_count": null,
      "outputs": [
        {
          "output_type": "stream",
          "name": "stdout",
          "text": [
            "Requirement already satisfied: networkx in /usr/local/lib/python3.10/dist-packages (3.3)\n"
          ]
        }
      ]
    },
    {
      "cell_type": "code",
      "source": [
        "# Loading libraries\n",
        "import numpy as np # linear algebra\n",
        "import pandas as pd # data processing, CSV file I/O (e.g. pd.read_csv)\n",
        "import seaborn as sns\n",
        "import matplotlib.pyplot as plt\n",
        "from mpl_toolkits.basemap import Basemap\n",
        "%matplotlib inline"
      ],
      "metadata": {
        "id": "8No7OQR9tWzl"
      },
      "execution_count": null,
      "outputs": []
    },
    {
      "cell_type": "code",
      "source": [
        "Importando datasets THOR com dados da guerra do Vietnã"
      ],
      "metadata": {
        "id": "awgbKJKCteHH"
      },
      "execution_count": null,
      "outputs": []
    },
    {
      "cell_type": "markdown",
      "source": [
        "\n",
        "Network Element\tVietnam: Node:\tBomb Operation. Edge:\tAircraft Glossary\n"
      ],
      "metadata": {
        "id": "UpdATjAkvJ0H"
      }
    },
    {
      "cell_type": "code",
      "source": [
        "bombing_operation = pd.read_csv(\"../input/THOR_Vietnam_Bombing_Operations.csv\")\n",
        "aircraft_glossary = pd.read_csv(\"../input/THOR_Vietnam_Aircraft_Glossary.csv\", encoding = \"ISO-8859-1\")\n",
        "weapons_glossary = pd.read_csv(\"../input/THOR_Vietnam_Weapons_Glossary.csv\", encoding = \"ISO-8859-1\")"
      ],
      "metadata": {
        "id": "vTFCcbYZttxV"
      },
      "execution_count": null,
      "outputs": []
    },
    {
      "cell_type": "markdown",
      "source": [
        "Conjuntos de dados resumidos"
      ],
      "metadata": {
        "id": "HSU0_WBrtxX4"
      }
    },
    {
      "cell_type": "code",
      "source": [
        "print(\"----- SHAPE OF DATASET -----\")\n",
        "print(\"BOMBING OPERATION : \",bombing_operation.shape)\n",
        "print(\"AIRCRAFT GLOSSARY : \",aircraft_glossary.shape)\n",
        "print(\"WEAPONS GLOSSARY : \",weapons_glossary.shape)"
      ],
      "metadata": {
        "id": "O9IOIu-BuHYk"
      },
      "execution_count": null,
      "outputs": []
    },
    {
      "cell_type": "code",
      "source": [
        "bombing_operation.head(2)"
      ],
      "metadata": {
        "id": "_OwFESnpuJAc"
      },
      "execution_count": null,
      "outputs": []
    },
    {
      "cell_type": "code",
      "source": [
        "aircraft_glossary.head(2)"
      ],
      "metadata": {
        "id": "1VgPdgynv_Ye"
      },
      "execution_count": null,
      "outputs": []
    },
    {
      "cell_type": "code",
      "source": [
        "weapons_glossary.head(2)"
      ],
      "metadata": {
        "id": "mE3GNII8wtSB"
      },
      "execution_count": null,
      "outputs": []
    },
    {
      "cell_type": "markdown",
      "source": [
        "Para a visualização dos dados:"
      ],
      "metadata": {
        "id": "VqOaQ-5PwKZK"
      }
    },
    {
      "cell_type": "code",
      "source": [
        "countries_mission = bombing_operation[\"COUNTRYFLYINGMISSION\"]\n",
        "count = countries_mission.value_counts()\n",
        "countries, y = count.keys().tolist(), count.values\n",
        "\n",
        "plt.figure(figsize=(15,10))\n",
        "ax= sns.barplot(x=countries, y=y,palette = sns.cubehelix_palette(len(countries)))\n",
        "plt.xlabel('Countries')\n",
        "plt.ylabel('Number of mission')\n",
        "plt.title('Number of mission by country')"
      ],
      "metadata": {
        "id": "RVjZ0bo1wkB_"
      },
      "execution_count": null,
      "outputs": []
    },
    {
      "cell_type": "markdown",
      "source": [
        "Onde as missões foram realizadas:"
      ],
      "metadata": {
        "id": "oUfPf1dDw1QX"
      }
    },
    {
      "cell_type": "code",
      "source": [
        "mission_lat_lon = bombing_operation[['COUNTRYFLYINGMISSION', 'TGTLATDD_DDD_WGS84', 'TGTLONDDD_DDD_WGS84']]\n",
        "mission_lat_lon = mission_lat_lon.rename(columns={\"COUNTRYFLYINGMISSION\": \"country\", \"TGTLATDD_DDD_WGS84\": \"latitude\", \"TGTLONDDD_DDD_WGS84\" : \"longitude\"})\n",
        "mission_lat_lon = mission_lat_lon[pd.notnull(mission_lat_lon['latitude'])]\n",
        "mission_lat_lon = mission_lat_lon[pd.notnull(mission_lat_lon['country'])]\n",
        "print(mission_lat_lon.head())"
      ],
      "metadata": {
        "id": "kvGy_Uuew4ql"
      },
      "execution_count": null,
      "outputs": []
    },
    {
      "cell_type": "code",
      "source": [
        "mission_lat_lon['latitude'] = mission_lat_lon['latitude'].round(2)\n",
        "mission_lat_lon['longitude'] = mission_lat_lon['longitude'].round(2)\n",
        "print(\"BEFORE DROP DUPLICATES : \",mission_lat_lon.shape)\n",
        "mission_lat_lon = mission_lat_lon.drop_duplicates()\n",
        "print(\"AFTER DROP DUPLICATES : \",mission_lat_lon.shape)"
      ],
      "metadata": {
        "id": "qu48h-zWw9mb"
      },
      "execution_count": null,
      "outputs": []
    },
    {
      "cell_type": "code",
      "source": [
        "col = {}\n",
        "for c in countries:\n",
        "    if c == 'UNITED STATES OF AMERICA':\n",
        "        col[c] = 'red'\n",
        "    else:\n",
        "        col[c] = 'blue'\n",
        "\n",
        "print(col)\n",
        "mission_lat_lon['colors'] = [col[c] for c in mission_lat_lon['country'].values]\n",
        "print(mission_lat_lon.head())"
      ],
      "metadata": {
        "id": "4tIc5jGAxAIC"
      },
      "execution_count": null,
      "outputs": []
    },
    {
      "cell_type": "code",
      "source": [
        "fig = plt.figure(figsize=(15, 10))\n",
        "m = Basemap(projection='lcc', resolution='h',\n",
        "            width=5E6, height=5E6,\n",
        "            lat_0=16, lon_0=100)\n",
        "m.etopo(scale=0.5, alpha=0.5)\n",
        "m.drawcountries()\n",
        "m.drawcoastlines()\n",
        "\n",
        "lon = mission_lat_lon['longitude'].values\n",
        "lat = mission_lat_lon['latitude'].values\n",
        "col = mission_lat_lon['colors'].values\n",
        "\n",
        "#Map (long, lat) to (x, y) for plotting\n",
        "lons, lats = m(lon, lat)\n",
        "# plot points as red dots\n",
        "m.scatter(lons, lats, marker = 'o', color=col, s=1)\n",
        "plt.show()"
      ],
      "metadata": {
        "id": "aOWtXoVjxD2T"
      },
      "execution_count": null,
      "outputs": []
    }
  ]
}